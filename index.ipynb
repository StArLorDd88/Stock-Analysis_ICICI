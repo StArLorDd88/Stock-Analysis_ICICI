{
 "cells": [
  {
   "cell_type": "code",
   "execution_count": null,
   "metadata": {},
   "outputs": [],
   "source": [
    "import pandas as pd\n",
    "\n",
    "df = pd.read_csv(\"./script/FONSEScripMaster.txt\", dtype=str)\n",
    "\n",
    "data = df[[\"Token\", \"InstrumentName\", \"ShortName\", \"Series\", \"ExpiryDate\", \"StrikePrice\", \"OptionType\", \"BasePrice\", \"ExchangeCode\"]]\n",
    "\n",
    "data = data[data[\"Series\"] == \"OPTION\"]\n",
    "data = data[data[\"InstrumentName\"] == \"OPTSTK\"]\n",
    "\n",
    "# Print first few rows\n",
    "print(data.head())\n",
    "\n",
    "# only when it's needed to get latest data from the broker\n",
    "# unique_instruments = data[\"ExchangeCode\"].unique()\n",
    "# for instrument in unique_instruments:\n",
    "#     instrument_data = data[data[\"ExchangeCode\"] == instrument]\n",
    "#     file_name = f\"./Optiondata/{instrument}.xlsx\"\n",
    "#     instrument_data.to_excel(file_name, index = False)\n"
   ]
  },
  {
   "cell_type": "code",
   "execution_count": null,
   "metadata": {},
   "outputs": [
    {
     "name": "stdout",
     "output_type": "stream",
     "text": [
      " * Serving Flask app '__main__'\n"
     ]
    },
    {
     "name": "stdout",
     "output_type": "stream",
     "text": [
      " * Debug mode: on\n"
     ]
    },
    {
     "name": "stderr",
     "output_type": "stream",
     "text": [
      "WARNING: This is a development server. Do not use it in a production deployment. Use a production WSGI server instead.\n",
      " * Running on http://127.0.0.1:5000\n",
      "Press CTRL+C to quit\n",
      "127.0.0.1 - - [08/Mar/2025 22:48:59] \"GET / HTTP/1.1\" 302 -\n",
      "127.0.0.1 - - [08/Mar/2025 22:49:36] \"POST /callback?apisession=50830829 HTTP/1.1\" 200 -\n"
     ]
    }
   ],
   "source": [
    "import threading\n",
    "from flask import Flask, request, jsonify, redirect, session\n",
    "from breeze_connect import BreezeConnect\n",
    "import urllib.parse\n",
    "\n",
    "app = Flask(__name__)\n",
    "app.secret_key = \"1997\"\n",
    "\n",
    "API_KEY = \"4_8463B9784119l72yC4426912px346P\"\n",
    "API_SECRET = \"816O1S=eG215716g518CM)X225Z0!78b\"\n",
    "ACCESS_TOKEN = None\n",
    "\n",
    "breeze = BreezeConnect(api_key=API_KEY)\n",
    "\n",
    "@app.route('/')\n",
    "def login():\n",
    "    login_url = f\"https://api.icicidirect.com/apiuser/login?api_key={urllib.parse.quote_plus(API_KEY)}\"\n",
    "    return redirect(login_url)\n",
    "\n",
    "@app.route('/callback', methods=['POST'])\n",
    "def callback():\n",
    "    global ACCESS_TOKEN\n",
    "\n",
    "    session_token = request.args.get(\"apisession\")\n",
    "    if not session_token:\n",
    "        return \"Authorization failed\", 400\n",
    "\n",
    "    try:\n",
    "        breeze.generate_session(api_secret=API_SECRET, session_token=session_token)\n",
    "        ACCESS_TOKEN = session_token\n",
    "        session[\"access_token\"] = ACCESS_TOKEN\n",
    "        \n",
    "        # Fetch customer details\n",
    "        customer_details = breeze.get_customer_details(api_session=ACCESS_TOKEN)\n",
    "        return jsonify({\"message\": \"Session active\", \"customer_details\": customer_details})\n",
    "    except Exception as e:\n",
    "        return jsonify({\"error\": str(e)}), 500\n",
    "\n",
    "# Start Flask in a separate thread\n",
    "def run_flask():\n",
    "    app.run(debug=True, use_reloader=False)\n",
    "\n",
    "threading.Thread(target=run_flask).start()"
   ]
  },
  {
   "cell_type": "markdown",
   "metadata": {},
   "source": [
    "###### \n",
    "* product_type:- \"futures\", \"options\", \"furtureplus\", \"futureplus_sltp\", \"optionplus\", \"cash\", \"eatm\", \"btst\", \"margin\", \"marginplus\"\n",
    "* exchange_code:- \"NSE\", \"NFO\", \"BSE\"\n",
    "* right:- \t\"call\", \"put\", \"others\"\n"
   ]
  },
  {
   "cell_type": "code",
   "execution_count": 19,
   "metadata": {},
   "outputs": [
    {
     "name": "stdout",
     "output_type": "stream",
     "text": [
      "{'Success': [{'datetime': '2024-10-31 09:15:00', 'stock_code': 'RELIND', 'exchange_code': 'NFO', 'product_type': 'Options', 'expiry_date': '31-OCT-24', 'right': 'Call', 'strike_price': '1300', 'open': '43', 'high': '43', 'low': '30.1', 'close': '30.75', 'volume': '14500', 'open_interest': '202000', 'count': 0}, {'datetime': '2024-10-31 09:45:00', 'stock_code': 'RELIND', 'exchange_code': 'NFO', 'product_type': 'Options', 'expiry_date': '31-OCT-24', 'right': 'Call', 'strike_price': '1300', 'open': '31.7', 'high': '36.35', 'low': '31.7', 'close': '34.5', 'volume': '10000', 'open_interest': '194000', 'count': 1}, {'datetime': '2024-10-31 10:15:00', 'stock_code': 'RELIND', 'exchange_code': 'NFO', 'product_type': 'Options', 'expiry_date': '31-OCT-24', 'right': 'Call', 'strike_price': '1300', 'open': '35.85', 'high': '37.8', 'low': '35.85', 'close': '37.45', 'volume': '1500', 'open_interest': '191000', 'count': 2}, {'datetime': '2024-10-31 10:45:00', 'stock_code': 'RELIND', 'exchange_code': 'NFO', 'product_type': 'Options', 'expiry_date': '31-OCT-24', 'right': 'Call', 'strike_price': '1300', 'open': '37.35', 'high': '37.35', 'low': '35.65', 'close': '36.15', 'volume': '5000', 'open_interest': '190500', 'count': 3}, {'datetime': '2024-10-31 11:15:00', 'stock_code': 'RELIND', 'exchange_code': 'NFO', 'product_type': 'Options', 'expiry_date': '31-OCT-24', 'right': 'Call', 'strike_price': '1300', 'open': '34.35', 'high': '34.35', 'low': '32.95', 'close': '34.25', 'volume': '7500', 'open_interest': '183500', 'count': 4}, {'datetime': '2024-10-31 11:45:00', 'stock_code': 'RELIND', 'exchange_code': 'NFO', 'product_type': 'Options', 'expiry_date': '31-OCT-24', 'right': 'Call', 'strike_price': '1300', 'open': '34.65', 'high': '37', 'low': '34.65', 'close': '37', 'volume': '3000', 'open_interest': '182000', 'count': 5}, {'datetime': '2024-10-31 12:15:00', 'stock_code': 'RELIND', 'exchange_code': 'NFO', 'product_type': 'Options', 'expiry_date': '31-OCT-24', 'right': 'Call', 'strike_price': '1300', 'open': '37.8', 'high': '39.1', 'low': '37.5', 'close': '39', 'volume': '7500', 'open_interest': '184000', 'count': 6}, {'datetime': '2024-10-31 12:45:00', 'stock_code': 'RELIND', 'exchange_code': 'NFO', 'product_type': 'Options', 'expiry_date': '31-OCT-24', 'right': 'Call', 'strike_price': '1300', 'open': '37.2', 'high': '39', 'low': '37.2', 'close': '38.85', 'volume': '6000', 'open_interest': '177500', 'count': 7}, {'datetime': '2024-10-31 13:15:00', 'stock_code': 'RELIND', 'exchange_code': 'NFO', 'product_type': 'Options', 'expiry_date': '31-OCT-24', 'right': 'Call', 'strike_price': '1300', 'open': '38', 'high': '38', 'low': '32.25', 'close': '37.35', 'volume': '8000', 'open_interest': '172500', 'count': 8}, {'datetime': '2024-10-31 13:45:00', 'stock_code': 'RELIND', 'exchange_code': 'NFO', 'product_type': 'Options', 'expiry_date': '31-OCT-24', 'right': 'Call', 'strike_price': '1300', 'open': '36.55', 'high': '37.85', 'low': '32.8', 'close': '32.8', 'volume': '23500', 'open_interest': '169500', 'count': 9}, {'datetime': '2024-10-31 14:15:00', 'stock_code': 'RELIND', 'exchange_code': 'NFO', 'product_type': 'Options', 'expiry_date': '31-OCT-24', 'right': 'Call', 'strike_price': '1300', 'open': '32.5', 'high': '32.5', 'low': '26.15', 'close': '29.15', 'volume': '9000', 'open_interest': '166500', 'count': 10}, {'datetime': '2024-10-31 14:45:00', 'stock_code': 'RELIND', 'exchange_code': 'NFO', 'product_type': 'Options', 'expiry_date': '31-OCT-24', 'right': 'Call', 'strike_price': '1300', 'open': '28.6', 'high': '30', 'low': '27.5', 'close': '29.55', 'volume': '13000', 'open_interest': '165500', 'count': 11}, {'datetime': '2024-10-31 15:15:00', 'stock_code': 'RELIND', 'exchange_code': 'NFO', 'product_type': 'Options', 'expiry_date': '31-OCT-24', 'right': 'Call', 'strike_price': '1300', 'open': '31.5', 'high': '31.7', 'low': '29.05', 'close': '29.05', 'volume': '5500', 'open_interest': '164000', 'count': 12}], 'Status': 200, 'Error': None}\n"
     ]
    }
   ],
   "source": [
    "from datetime import datetime\n",
    "\n",
    "# Function to format date and datetime in ISO format\n",
    "def format_iso(date_str, time_str=\"07:00:00\"):\n",
    "    return f\"{datetime.strptime(date_str, '%d/%m/%Y').date()}T{time_str}.000Z\"\n",
    "\n",
    "start_date = format_iso(\"31/10/2024\", \"09:15:00\")\n",
    "end_date = format_iso(\"31/10/2024\", \"15:30:00\")\n",
    "exp_date = format_iso(\"31/10/2024\", \"15:30:00\")\n",
    "\n",
    "stock_code = \"RELIND\"\n",
    "exchange_code = \"NFO\"\n",
    "interval = \"30minute\"\n",
    "strike_price=\"1300\"\n",
    "product_type = \"options\"\n",
    "right = \"call\"\n",
    "\n",
    "data = breeze.get_historical_data(\n",
    "    interval = interval,\n",
    "    from_date = start_date,\n",
    "    to_date = end_date,\n",
    "    expiry_date = exp_date,\n",
    "    stock_code = stock_code,\n",
    "    strike_price = strike_price,\n",
    "    product_type = product_type,\n",
    "    exchange_code = exchange_code,\n",
    "    right=right\n",
    ")\n",
    "\n",
    "print(data)"
   ]
  },
  {
   "cell_type": "code",
   "execution_count": 20,
   "metadata": {},
   "outputs": [
    {
     "name": "stdout",
     "output_type": "stream",
     "text": [
      "               datetime stock_code exchange_code product_type expiry_date  \\\n",
      "0   2024-10-31 09:15:00     RELIND           NFO      Options   31-OCT-24   \n",
      "1   2024-10-31 09:45:00     RELIND           NFO      Options   31-OCT-24   \n",
      "2   2024-10-31 10:15:00     RELIND           NFO      Options   31-OCT-24   \n",
      "3   2024-10-31 10:45:00     RELIND           NFO      Options   31-OCT-24   \n",
      "4   2024-10-31 11:15:00     RELIND           NFO      Options   31-OCT-24   \n",
      "5   2024-10-31 11:45:00     RELIND           NFO      Options   31-OCT-24   \n",
      "6   2024-10-31 12:15:00     RELIND           NFO      Options   31-OCT-24   \n",
      "7   2024-10-31 12:45:00     RELIND           NFO      Options   31-OCT-24   \n",
      "8   2024-10-31 13:15:00     RELIND           NFO      Options   31-OCT-24   \n",
      "9   2024-10-31 13:45:00     RELIND           NFO      Options   31-OCT-24   \n",
      "10  2024-10-31 14:15:00     RELIND           NFO      Options   31-OCT-24   \n",
      "11  2024-10-31 14:45:00     RELIND           NFO      Options   31-OCT-24   \n",
      "12  2024-10-31 15:15:00     RELIND           NFO      Options   31-OCT-24   \n",
      "\n",
      "   right strike_price   open   high    low  close volume open_interest  count  \n",
      "0   Call         1300     43     43   30.1  30.75  14500        202000      0  \n",
      "1   Call         1300   31.7  36.35   31.7   34.5  10000        194000      1  \n",
      "2   Call         1300  35.85   37.8  35.85  37.45   1500        191000      2  \n",
      "3   Call         1300  37.35  37.35  35.65  36.15   5000        190500      3  \n",
      "4   Call         1300  34.35  34.35  32.95  34.25   7500        183500      4  \n",
      "5   Call         1300  34.65     37  34.65     37   3000        182000      5  \n",
      "6   Call         1300   37.8   39.1   37.5     39   7500        184000      6  \n",
      "7   Call         1300   37.2     39   37.2  38.85   6000        177500      7  \n",
      "8   Call         1300     38     38  32.25  37.35   8000        172500      8  \n",
      "9   Call         1300  36.55  37.85   32.8   32.8  23500        169500      9  \n",
      "10  Call         1300   32.5   32.5  26.15  29.15   9000        166500     10  \n",
      "11  Call         1300   28.6     30   27.5  29.55  13000        165500     11  \n",
      "12  Call         1300   31.5   31.7  29.05  29.05   5500        164000     12  \n"
     ]
    }
   ],
   "source": [
    "import pandas as pd\n",
    "\n",
    "df = pd.DataFrame(data['Success'])\n",
    "\n",
    "# Display the DataFrame\n",
    "print(df)\n",
    "\n",
    "df.to_excel(\"Reliance.xlsx\", index=False)"
   ]
  },
  {
   "cell_type": "code",
   "execution_count": null,
   "metadata": {},
   "outputs": [],
   "source": []
  }
 ],
 "metadata": {
  "kernelspec": {
   "display_name": "venv",
   "language": "python",
   "name": "python3"
  },
  "language_info": {
   "codemirror_mode": {
    "name": "ipython",
    "version": 3
   },
   "file_extension": ".py",
   "mimetype": "text/x-python",
   "name": "python",
   "nbconvert_exporter": "python",
   "pygments_lexer": "ipython3",
   "version": "3.13.2"
  }
 },
 "nbformat": 4,
 "nbformat_minor": 2
}
