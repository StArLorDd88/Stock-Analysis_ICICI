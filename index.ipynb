{
 "cells": [
  {
   "cell_type": "code",
   "execution_count": null,
   "metadata": {},
   "outputs": [
    {
     "name": "stdout",
     "output_type": "stream",
     "text": [
      "     Token InstrumentName ShortName  Series   ExpiryDate StrikePrice  \\\n",
      "797  35172         OPTSTK    ADAENT  OPTION  24-Apr-2025        3000   \n",
      "799  35175         OPTSTK    ADAENT  OPTION  24-Apr-2025        3000   \n",
      "832  35233         OPTSTK    ADAPOR  OPTION  24-Apr-2025        1600   \n",
      "833  35234         OPTSTK    ADAPOR  OPTION  24-Apr-2025        1600   \n",
      "835  35238         OPTSTK    AARIND  OPTION  27-Mar-2025         515   \n",
      "\n",
      "    OptionType BasePrice ExchangeCode  \n",
      "797         CE    229010     ADANIENT  \n",
      "799         PE    229010     ADANIENT  \n",
      "832         CE    109960   ADANIPORTS  \n",
      "833         PE    109960   ADANIPORTS  \n",
      "835         CE     37600     AARTIIND  \n"
     ]
    }
   ],
   "source": [
    "import pandas as pd\n",
    "\n",
    "df = pd.read_csv(\"./script/FONSEScripMaster.txt\", dtype=str)\n",
    "\n",
    "data = df[[\"Token\", \"InstrumentName\", \"ShortName\", \"Series\", \"ExpiryDate\", \"StrikePrice\", \"OptionType\", \"BasePrice\", \"ExchangeCode\"]]\n",
    "\n",
    "data = data[data[\"Series\"] == \"OPTION\"]\n",
    "data = data[data[\"InstrumentName\"] == \"OPTSTK\"]\n",
    "\n",
    "# Print first few rows\n",
    "print(data.head())\n",
    "\n",
    "# only when it's needed to get latest data from the broker\n",
    "# unique_instruments = data[\"ExchangeCode\"].unique()\n",
    "# for instrument in unique_instruments:\n",
    "#     instrument_data = data[data[\"ExchangeCode\"] == instrument]\n",
    "#     file_name = f\"./Optiondata/{instrument}.xlsx\"\n",
    "#     instrument_data.to_excel(file_name, index = False)\n"
   ]
  },
  {
   "cell_type": "code",
   "execution_count": null,
   "metadata": {},
   "outputs": [
    {
     "name": "stdout",
     "output_type": "stream",
     "text": [
      " * Serving Flask app '__main__'\n",
      " * Debug mode: on\n"
     ]
    },
    {
     "name": "stderr",
     "output_type": "stream",
     "text": [
      "WARNING: This is a development server. Do not use it in a production deployment. Use a production WSGI server instead.\n",
      " * Running on http://127.0.0.1:5000\n",
      "Press CTRL+C to quit\n",
      "127.0.0.1 - - [13/Mar/2025 11:45:56] \"GET / HTTP/1.1\" 302 -\n",
      "127.0.0.1 - - [13/Mar/2025 11:46:51] \"POST /callback?apisession=50877563 HTTP/1.1\" 200 -\n"
     ]
    }
   ],
   "source": [
    "import threading\n",
    "from flask import Flask, request, jsonify, redirect, session\n",
    "from breeze_connect import BreezeConnect\n",
    "import urllib.parse\n",
    "\n",
    "app = Flask(__name__)\n",
    "app.secret_key = \"1997\"\n",
    "\n",
    "API_KEY = \"4_8463B9784119l72yC4426912px346P\"\n",
    "API_SECRET = \"816O1S=eG215716g518CM)X225Z0!78b\"\n",
    "ACCESS_TOKEN = None\n",
    "\n",
    "breeze = BreezeConnect(api_key=API_KEY)\n",
    "\n",
    "@app.route('/')\n",
    "def login():\n",
    "    login_url = f\"https://api.icicidirect.com/apiuser/login?api_key={urllib.parse.quote_plus(API_KEY)}\"\n",
    "    return redirect(login_url)\n",
    "\n",
    "@app.route('/callback', methods=['POST'])\n",
    "def callback():\n",
    "    global ACCESS_TOKEN\n",
    "\n",
    "    session_token = request.args.get(\"apisession\")\n",
    "    if not session_token:\n",
    "        return \"Authorization failed\", 400\n",
    "\n",
    "    try:\n",
    "        breeze.generate_session(api_secret=API_SECRET, session_token=session_token)\n",
    "        ACCESS_TOKEN = session_token\n",
    "        session[\"access_token\"] = ACCESS_TOKEN\n",
    "        \n",
    "        # Fetch customer details\n",
    "        customer_details = breeze.get_customer_details(api_session=ACCESS_TOKEN)\n",
    "        return jsonify({\"message\": \"Session active\", \"customer_details\": customer_details})\n",
    "    except Exception as e:\n",
    "        return jsonify({\"error\": str(e)}), 500\n",
    "\n",
    "# Start Flask in a separate thread\n",
    "def run_flask():\n",
    "    app.run(debug=True, use_reloader=False)\n",
    "\n",
    "threading.Thread(target=run_flask).start()"
   ]
  },
  {
   "cell_type": "markdown",
   "metadata": {},
   "source": [
    "###### \n",
    "* product_type:- \"futures\", \"options\", \"furtureplus\", \"futureplus_sltp\", \"optionplus\", \"cash\", \"eatm\", \"btst\", \"margin\", \"marginplus\"\n",
    "* exchange_code:- \"NSE\", \"NFO\", \"BSE\"\n",
    "* right:- \t\"call\", \"put\", \"others\"\n"
   ]
  },
  {
   "cell_type": "code",
   "execution_count": 39,
   "metadata": {},
   "outputs": [
    {
     "name": "stdout",
     "output_type": "stream",
     "text": [
      "Data successfully saved to ICICI.xlsx\n"
     ]
    }
   ],
   "source": [
    "from datetime import datetime\n",
    "import pandas as pd\n",
    "\n",
    "# Function to format date and datetime in ISO format\n",
    "def format_iso(date_str, time_str=\"07:00:00\"):\n",
    "    return f\"{datetime.strptime(date_str, '%d/%m/%Y').date()}T{time_str}.000Z\"\n",
    "\n",
    "# Define required dates\n",
    "start_date = format_iso(\"28/08/2024\", \"09:15:00\")\n",
    "end_date = format_iso(\"29/08/2024\", \"15:30:00\")\n",
    "exp_date = format_iso(\"29/08/2024\", \"15:30:00\")\n",
    "\n",
    "# Other parameters\n",
    "stock_code = \"ICIBAN\"\n",
    "exchange_code = \"NFO\"\n",
    "interval = \"1minute\"\n",
    "strike_price = \"1200\"\n",
    "product_type = \"options\"\n",
    "rights = [\"call\", \"put\"]\n",
    "\n",
    "all_data = []  # List to store data for both \"call\" and \"put\"\n",
    "\n",
    "# Fetch data for both call and put options\n",
    "for right in rights:\n",
    "    data = breeze.get_historical_data(\n",
    "        interval=interval,\n",
    "        from_date=start_date,\n",
    "        to_date=end_date,\n",
    "        expiry_date=exp_date,\n",
    "        stock_code=stock_code,\n",
    "        strike_price=strike_price,\n",
    "        product_type=product_type,\n",
    "        exchange_code=exchange_code,\n",
    "        right=right\n",
    "    )\n",
    "    \n",
    "    if \"Success\" in data and isinstance(data[\"Success\"], list):  # Ensure valid response\n",
    "        df = pd.DataFrame(data[\"Success\"])  # Convert API response to DataFrame\n",
    "        all_data.append(df)\n",
    "\n",
    "# Combine both DataFrames into one\n",
    "if all_data:\n",
    "    final_df = pd.concat(all_data, ignore_index=True)  # Merge call & put data\n",
    "    \n",
    "    # Save to Excel\n",
    "    final_df.to_excel(\"ICICI.xlsx\", index=False, engine=\"openpyxl\")\n",
    "    print(\"Data successfully saved to ICICI.xlsx\")\n",
    "else:\n",
    "    print(\"No valid data received.\")\n"
   ]
  }
 ],
 "metadata": {
  "kernelspec": {
   "display_name": "venv",
   "language": "python",
   "name": "python3"
  },
  "language_info": {
   "codemirror_mode": {
    "name": "ipython",
    "version": 3
   },
   "file_extension": ".py",
   "mimetype": "text/x-python",
   "name": "python",
   "nbconvert_exporter": "python",
   "pygments_lexer": "ipython3",
   "version": "3.13.2"
  }
 },
 "nbformat": 4,
 "nbformat_minor": 2
}
